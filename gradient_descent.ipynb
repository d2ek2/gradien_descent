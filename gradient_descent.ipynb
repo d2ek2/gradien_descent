{
 "cells": [
  {
   "cell_type": "code",
   "execution_count": 1,
   "id": "1eabc3ba",
   "metadata": {},
   "outputs": [],
   "source": [
    "import numpy as np"
   ]
  },
  {
   "cell_type": "code",
   "execution_count": 2,
   "id": "1aa5f391",
   "metadata": {},
   "outputs": [],
   "source": [
    "#求める関数\n",
    "def function(x):\n",
    "    return 3*x[0]**2 + 7*x[1]**2#3x_0^2 + 4x_1^2の関数定義"
   ]
  },
  {
   "cell_type": "code",
   "execution_count": 3,
   "id": "9c895102",
   "metadata": {},
   "outputs": [],
   "source": [
    "def numerical_gradient(f, x): #勾配を求める関数\n",
    "    h = 1e-4\n",
    "    grad = np.zeros_like(x) #既存配列xと同じ数の要素を持ち、要素すべてが0の初期化配列を生成\n",
    "    \n",
    "    for idx in range(x.size):#x[0]とx[1]に関して処理\n",
    "        #f(x+h)の計算\n",
    "        tmp_val = x[idx]\n",
    "        x[idx] = tmp_val + h\n",
    "        fxh1 = f(x)\n",
    "        \n",
    "        #f(x-h)の計算\n",
    "        x[idx] = tmp_val - h\n",
    "        fxh2 = f(x)\n",
    "        \n",
    "        #中心差分の微分で求める\n",
    "        #前方微分や広報微分よりも精度が良くなるため\n",
    "        grad[idx] = (fxh1 - fxh2) / (2*h)\n",
    "        x[idx] = tmp_val\n",
    "        \n",
    "    return grad #2次元ベクトルを返す"
   ]
  },
  {
   "cell_type": "code",
   "execution_count": 4,
   "id": "4fad6f8e",
   "metadata": {},
   "outputs": [],
   "source": [
    "def gradient_descent(f, init_x, lr): # 反復式の定義\n",
    "    esp = 1e-10 #反復を止めるための条件\n",
    "    x = init_x\n",
    "    while True:\n",
    "        grad = numerical_gradient(f,x) #勾配計算\n",
    "        if (-esp < grad[0] < esp ) and (-esp < grad[1] < esp): #条件式\n",
    "            break\n",
    "        x -= lr * grad #反復式\n",
    "    return x #スカラーを返す"
   ]
  },
  {
   "cell_type": "code",
   "execution_count": 5,
   "id": "387722c8",
   "metadata": {},
   "outputs": [
    {
     "data": {
      "text/plain": [
       "array([-3.45876452e-12,  4.61168602e-12])"
      ]
     },
     "execution_count": 5,
     "metadata": {},
     "output_type": "execute_result"
    }
   ],
   "source": [
    "#初期座標は自由ここでは(-3.0,-4.0)を指定している\n",
    "init_x = np.array([-3.0, 4.0])\n",
    "v = gradient_descent(function,init_x, lr=0.1)\n",
    "v"
   ]
  },
  {
   "cell_type": "code",
   "execution_count": null,
   "id": "55fd0830",
   "metadata": {},
   "outputs": [],
   "source": []
  },
  {
   "cell_type": "code",
   "execution_count": null,
   "id": "0070fb22",
   "metadata": {},
   "outputs": [],
   "source": []
  }
 ],
 "metadata": {
  "kernelspec": {
   "display_name": "Python 3 (ipykernel)",
   "language": "python",
   "name": "python3"
  },
  "language_info": {
   "codemirror_mode": {
    "name": "ipython",
    "version": 3
   },
   "file_extension": ".py",
   "mimetype": "text/x-python",
   "name": "python",
   "nbconvert_exporter": "python",
   "pygments_lexer": "ipython3",
   "version": "3.11.5"
  }
 },
 "nbformat": 4,
 "nbformat_minor": 5
}
